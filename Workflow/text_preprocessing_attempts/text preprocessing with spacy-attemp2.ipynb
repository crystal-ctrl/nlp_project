{
 "cells": [
  {
   "cell_type": "code",
   "execution_count": 1,
   "id": "stock-alexandria",
   "metadata": {},
   "outputs": [
    {
     "name": "stderr",
     "output_type": "stream",
     "text": [
      "/Users/crystalhuang/anaconda3/lib/python3.8/site-packages/gensim/similarities/__init__.py:15: UserWarning: The gensim.similarities.levenshtein submodule is disabled, because the optional Levenshtein package <https://pypi.org/project/python-Levenshtein/> is unavailable. Install Levenhstein (e.g. `pip install python-Levenshtein`) to suppress this warning.\n",
      "  warnings.warn(msg)\n"
     ]
    }
   ],
   "source": [
    "import pandas as pd\n",
    "import numpy as np\n",
    "import pickle\n",
    "import time\n",
    "\n",
    "import seaborn as sns\n",
    "import matplotlib.pyplot as plt\n",
    "plt.style.use(\"seaborn-dark\")\n",
    "\n",
    "import spacy\n",
    "import scispacy\n",
    "import en_core_sci_lg\n",
    "from spacy_langdetect import LanguageDetector\n",
    "from spacy.language import Language\n",
    "\n",
    "from sklearn.feature_extraction import text\n",
    "from sklearn.feature_extraction.text import CountVectorizer, TfidfVectorizer\n",
    "from sklearn.decomposition import LatentDirichletAllocation\n",
    "\n",
    "from gensim import matutils, models\n",
    "import gensim.corpora as corpora\n",
    "from gensim.corpora import Dictionary\n",
    "from gensim.models.coherencemodel import CoherenceModel\n",
    "from gensim.models.ldamodel import LdaModel\n",
    "import scipy.sparse\n"
   ]
  },
  {
   "cell_type": "code",
   "execution_count": 2,
   "id": "fitted-treaty",
   "metadata": {},
   "outputs": [
    {
     "data": {
      "text/html": [
       "<div>\n",
       "<style scoped>\n",
       "    .dataframe tbody tr th:only-of-type {\n",
       "        vertical-align: middle;\n",
       "    }\n",
       "\n",
       "    .dataframe tbody tr th {\n",
       "        vertical-align: top;\n",
       "    }\n",
       "\n",
       "    .dataframe thead th {\n",
       "        text-align: right;\n",
       "    }\n",
       "</style>\n",
       "<table border=\"1\" class=\"dataframe\">\n",
       "  <thead>\n",
       "    <tr style=\"text-align: right;\">\n",
       "      <th></th>\n",
       "      <th>cord_uid</th>\n",
       "      <th>source_x</th>\n",
       "      <th>title</th>\n",
       "      <th>doi</th>\n",
       "      <th>abstract</th>\n",
       "      <th>publish_time</th>\n",
       "      <th>authors</th>\n",
       "      <th>journal</th>\n",
       "      <th>url</th>\n",
       "      <th>publish_year</th>\n",
       "      <th>lang</th>\n",
       "    </tr>\n",
       "  </thead>\n",
       "  <tbody>\n",
       "    <tr>\n",
       "      <th>0</th>\n",
       "      <td>gl6kg2gt</td>\n",
       "      <td>WHO</td>\n",
       "      <td>Progress Toward Poliovirus Containment Impleme...</td>\n",
       "      <td>NaN</td>\n",
       "      <td>Since 1988, when World Health Organization (WH...</td>\n",
       "      <td>2020-01-01</td>\n",
       "      <td>Moffett, Daphne B; Llewellyn, Anna; Singh, Har...</td>\n",
       "      <td>MMWR Morb Mortal Wkly Rep</td>\n",
       "      <td>NaN</td>\n",
       "      <td>2020</td>\n",
       "      <td>en</td>\n",
       "    </tr>\n",
       "    <tr>\n",
       "      <th>1</th>\n",
       "      <td>jjgqnzp6</td>\n",
       "      <td>WHO</td>\n",
       "      <td>Anti)social Monitoring: Law and (or) Expediency?</td>\n",
       "      <td>NaN</td>\n",
       "      <td>The paper is focused on analysis of compliance...</td>\n",
       "      <td>2020-01-01</td>\n",
       "      <td>Savelyev, Alexander I.</td>\n",
       "      <td>Zakon</td>\n",
       "      <td>NaN</td>\n",
       "      <td>2020</td>\n",
       "      <td>en</td>\n",
       "    </tr>\n",
       "    <tr>\n",
       "      <th>2</th>\n",
       "      <td>s5hd55ch</td>\n",
       "      <td>WHO</td>\n",
       "      <td>Running of high patient volume radiation oncol...</td>\n",
       "      <td>NaN</td>\n",
       "      <td>Purpose: Due to COVID 19 pandemic, the treatme...</td>\n",
       "      <td>2020-01-01</td>\n",
       "      <td>Gupta, Manoj; Ahuja, Rachit; Gupta, Sweety; Jo...</td>\n",
       "      <td>Radiat. Oncol. J.</td>\n",
       "      <td>NaN</td>\n",
       "      <td>2020</td>\n",
       "      <td>en</td>\n",
       "    </tr>\n",
       "    <tr>\n",
       "      <th>3</th>\n",
       "      <td>zl9kf1ax</td>\n",
       "      <td>MedRxiv; WHO</td>\n",
       "      <td>Rapid Development of a De Novo Convalescent Pl...</td>\n",
       "      <td>10.1101/2020.10.23.20217901</td>\n",
       "      <td>BackgroundWith no vaccine or treatment for SAR...</td>\n",
       "      <td>2020-01-01</td>\n",
       "      <td>Reik, Rita; Gammon, Richard; Carol, Nancy; Smi...</td>\n",
       "      <td>NaN</td>\n",
       "      <td>http://medrxiv.org/cgi/content/short/2020.10.2...</td>\n",
       "      <td>2020</td>\n",
       "      <td>en</td>\n",
       "    </tr>\n",
       "    <tr>\n",
       "      <th>4</th>\n",
       "      <td>gzjfyitd</td>\n",
       "      <td>WHO</td>\n",
       "      <td>COVID – 19 and gravid mothers</td>\n",
       "      <td>NaN</td>\n",
       "      <td>Human history is observing a very horrible and...</td>\n",
       "      <td>2020-01-01</td>\n",
       "      <td>Sadavarte, S.; Chaudhari, B. V.</td>\n",
       "      <td>International Journal of Research in Pharmaceu...</td>\n",
       "      <td>NaN</td>\n",
       "      <td>2020</td>\n",
       "      <td>en</td>\n",
       "    </tr>\n",
       "  </tbody>\n",
       "</table>\n",
       "</div>"
      ],
      "text/plain": [
       "   cord_uid      source_x                                              title  \\\n",
       "0  gl6kg2gt           WHO  Progress Toward Poliovirus Containment Impleme...   \n",
       "1  jjgqnzp6           WHO   Anti)social Monitoring: Law and (or) Expediency?   \n",
       "2  s5hd55ch           WHO  Running of high patient volume radiation oncol...   \n",
       "3  zl9kf1ax  MedRxiv; WHO  Rapid Development of a De Novo Convalescent Pl...   \n",
       "4  gzjfyitd           WHO                      COVID – 19 and gravid mothers   \n",
       "\n",
       "                           doi  \\\n",
       "0                          NaN   \n",
       "1                          NaN   \n",
       "2                          NaN   \n",
       "3  10.1101/2020.10.23.20217901   \n",
       "4                          NaN   \n",
       "\n",
       "                                            abstract publish_time  \\\n",
       "0  Since 1988, when World Health Organization (WH...   2020-01-01   \n",
       "1  The paper is focused on analysis of compliance...   2020-01-01   \n",
       "2  Purpose: Due to COVID 19 pandemic, the treatme...   2020-01-01   \n",
       "3  BackgroundWith no vaccine or treatment for SAR...   2020-01-01   \n",
       "4  Human history is observing a very horrible and...   2020-01-01   \n",
       "\n",
       "                                             authors  \\\n",
       "0  Moffett, Daphne B; Llewellyn, Anna; Singh, Har...   \n",
       "1                             Savelyev, Alexander I.   \n",
       "2  Gupta, Manoj; Ahuja, Rachit; Gupta, Sweety; Jo...   \n",
       "3  Reik, Rita; Gammon, Richard; Carol, Nancy; Smi...   \n",
       "4                    Sadavarte, S.; Chaudhari, B. V.   \n",
       "\n",
       "                                             journal  \\\n",
       "0                          MMWR Morb Mortal Wkly Rep   \n",
       "1                                              Zakon   \n",
       "2                                  Radiat. Oncol. J.   \n",
       "3                                                NaN   \n",
       "4  International Journal of Research in Pharmaceu...   \n",
       "\n",
       "                                                 url  publish_year lang  \n",
       "0                                                NaN          2020   en  \n",
       "1                                                NaN          2020   en  \n",
       "2                                                NaN          2020   en  \n",
       "3  http://medrxiv.org/cgi/content/short/2020.10.2...          2020   en  \n",
       "4                                                NaN          2020   en  "
      ]
     },
     "execution_count": 2,
     "metadata": {},
     "output_type": "execute_result"
    }
   ],
   "source": [
    "df=pd.read_csv(\"./data/clean_df_eng.csv\")\n",
    "df.head()"
   ]
  },
  {
   "cell_type": "code",
   "execution_count": 3,
   "id": "distributed-drunk",
   "metadata": {},
   "outputs": [
    {
     "data": {
      "text/plain": [
       "258961"
      ]
     },
     "execution_count": 3,
     "metadata": {},
     "output_type": "execute_result"
    }
   ],
   "source": [
    "all_texts = df.abstract\n",
    "len(all_texts)"
   ]
  },
  {
   "cell_type": "code",
   "execution_count": 4,
   "id": "appointed-overview",
   "metadata": {},
   "outputs": [],
   "source": [
    "# spacy nlp model\n",
    "nlp = en_core_sci_lg.load()\n",
    "nlp.max_length=3000000"
   ]
  },
  {
   "cell_type": "code",
   "execution_count": 5,
   "id": "unauthorized-opinion",
   "metadata": {},
   "outputs": [],
   "source": [
    "def spacy_tokenizer(sentence):\n",
    "    return [word.lemma_ for word in nlp(sentence) if not (word.like_num or word.is_stop or word.is_punct or word.is_space or len(word)==1)]"
   ]
  },
  {
   "cell_type": "code",
   "execution_count": 11,
   "id": "incorporated-smart",
   "metadata": {},
   "outputs": [],
   "source": [
    "# Vectorize \n",
    "vectorizer = CountVectorizer(tokenizer = spacy_tokenizer, min_df=2)\n",
    "data_vectorized = vectorizer.fit_transform(all_texts)"
   ]
  },
  {
   "cell_type": "code",
   "execution_count": 15,
   "id": "chubby-canal",
   "metadata": {},
   "outputs": [
    {
     "data": {
      "text/plain": [
       "<AxesSubplot:ylabel='word'>"
      ]
     },
     "execution_count": 15,
     "metadata": {},
     "output_type": "execute_result"
    },
    {
     "data": {
      "image/png": "[encoded data removed]",
      "text/plain": [
       "<Figure size 432x288 with 1 Axes>"
      ]
     },
     "metadata": {},
     "output_type": "display_data"
    }
   ],
   "source": [
    "# most frequent words\n",
    "word_count = pd.DataFrame({'word': vectorizer.get_feature_names(), \n",
    "                           'count': np.asarray(data_vectorized.sum(axis=0))[0]})\n",
    "word_count.sort_values('count', ascending=False).set_index('word')[:20]\\\n",
    "                .sort_values('count',ascending=True).plot(kind='barh')"
   ]
  },
  {
   "cell_type": "code",
   "execution_count": 16,
   "id": "wired-papua",
   "metadata": {},
   "outputs": [],
   "source": [
    "pickle.dump(data_vectorized, open(\"data_vect_final.pkl\", \"wb\"))\n",
    "pickle.dump(vectorizer, open(\"vectorizer_final.pkl\", \"wb\"))"
   ]
  },
  {
   "cell_type": "code",
   "execution_count": null,
   "id": "antique-alcohol",
   "metadata": {},
   "outputs": [],
   "source": []
  }
 ],
 "metadata": {
  "kernelspec": {
   "display_name": "Python [conda env:root]",
   "language": "python",
   "name": "conda-root-py"
  },
  "language_info": {
   "codemirror_mode": {
    "name": "ipython",
    "version": 3
   },
   "file_extension": ".py",
   "mimetype": "text/x-python",
   "name": "python",
   "nbconvert_exporter": "python",
   "pygments_lexer": "ipython3",
   "version": "3.8.5"
  }
 },
 "nbformat": 4,
 "nbformat_minor": 5
}
