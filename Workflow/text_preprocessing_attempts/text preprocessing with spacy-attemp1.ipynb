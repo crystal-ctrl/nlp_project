{
 "cells": [
  {
   "cell_type": "code",
   "execution_count": 25,
   "id": "stock-alexandria",
   "metadata": {},
   "outputs": [
    {
     "name": "stderr",
     "output_type": "stream",
     "text": [
      "/Users/crystalhuang/anaconda3/lib/python3.8/site-packages/gensim/similarities/__init__.py:15: UserWarning: The gensim.similarities.levenshtein submodule is disabled, because the optional Levenshtein package <https://pypi.org/project/python-Levenshtein/> is unavailable. Install Levenhstein (e.g. `pip install python-Levenshtein`) to suppress this warning.\n",
      "  warnings.warn(msg)\n"
     ]
    }
   ],
   "source": [
    "import pandas as pd\n",
    "import numpy as np\n",
    "import pickle\n",
    "import time\n",
    "\n",
    "import seaborn as sns\n",
    "import matplotlib.pyplot as plt\n",
    "plt.style.use(\"seaborn-dark\")\n",
    "\n",
    "import spacy\n",
    "import scispacy\n",
    "import en_core_sci_lg\n",
    "from spacy_langdetect import LanguageDetector\n",
    "from spacy.language import Language\n",
    "\n",
    "from sklearn.feature_extraction import text\n",
    "from sklearn.feature_extraction.text import CountVectorizer, TfidfVectorizer\n",
    "from sklearn.decomposition import LatentDirichletAllocation\n",
    "\n",
    "from gensim import matutils, models\n",
    "import gensim.corpora as corpora\n",
    "from gensim.corpora import Dictionary\n",
    "from gensim.models.coherencemodel import CoherenceModel\n",
    "from gensim.models.ldamodel import LdaModel\n",
    "import scipy.sparse\n"
   ]
  },
  {
   "cell_type": "code",
   "execution_count": 13,
   "id": "dated-biology",
   "metadata": {},
   "outputs": [
    {
     "data": {
      "text/html": [
       "<div>\n",
       "<style scoped>\n",
       "    .dataframe tbody tr th:only-of-type {\n",
       "        vertical-align: middle;\n",
       "    }\n",
       "\n",
       "    .dataframe tbody tr th {\n",
       "        vertical-align: top;\n",
       "    }\n",
       "\n",
       "    .dataframe thead th {\n",
       "        text-align: right;\n",
       "    }\n",
       "</style>\n",
       "<table border=\"1\" class=\"dataframe\">\n",
       "  <thead>\n",
       "    <tr style=\"text-align: right;\">\n",
       "      <th></th>\n",
       "      <th>cord_uid</th>\n",
       "      <th>source_x</th>\n",
       "      <th>title</th>\n",
       "      <th>doi</th>\n",
       "      <th>abstract</th>\n",
       "      <th>publish_time</th>\n",
       "      <th>authors</th>\n",
       "      <th>journal</th>\n",
       "      <th>url</th>\n",
       "      <th>publish_year</th>\n",
       "    </tr>\n",
       "  </thead>\n",
       "  <tbody>\n",
       "    <tr>\n",
       "      <th>0</th>\n",
       "      <td>gl6kg2gt</td>\n",
       "      <td>WHO</td>\n",
       "      <td>Progress Toward Poliovirus Containment Impleme...</td>\n",
       "      <td>NaN</td>\n",
       "      <td>Since 1988, when World Health Organization (WH...</td>\n",
       "      <td>2020-01-01</td>\n",
       "      <td>Moffett, Daphne B; Llewellyn, Anna; Singh, Har...</td>\n",
       "      <td>MMWR Morb Mortal Wkly Rep</td>\n",
       "      <td>NaN</td>\n",
       "      <td>2020</td>\n",
       "    </tr>\n",
       "    <tr>\n",
       "      <th>1</th>\n",
       "      <td>jjgqnzp6</td>\n",
       "      <td>WHO</td>\n",
       "      <td>Anti)social Monitoring: Law and (or) Expediency?</td>\n",
       "      <td>NaN</td>\n",
       "      <td>The paper is focused on analysis of compliance...</td>\n",
       "      <td>2020-01-01</td>\n",
       "      <td>Savelyev, Alexander I.</td>\n",
       "      <td>Zakon</td>\n",
       "      <td>NaN</td>\n",
       "      <td>2020</td>\n",
       "    </tr>\n",
       "    <tr>\n",
       "      <th>2</th>\n",
       "      <td>s5hd55ch</td>\n",
       "      <td>WHO</td>\n",
       "      <td>Running of high patient volume radiation oncol...</td>\n",
       "      <td>NaN</td>\n",
       "      <td>Purpose: Due to COVID 19 pandemic, the treatme...</td>\n",
       "      <td>2020-01-01</td>\n",
       "      <td>Gupta, Manoj; Ahuja, Rachit; Gupta, Sweety; Jo...</td>\n",
       "      <td>Radiat. Oncol. J.</td>\n",
       "      <td>NaN</td>\n",
       "      <td>2020</td>\n",
       "    </tr>\n",
       "    <tr>\n",
       "      <th>3</th>\n",
       "      <td>zl9kf1ax</td>\n",
       "      <td>MedRxiv; WHO</td>\n",
       "      <td>Rapid Development of a De Novo Convalescent Pl...</td>\n",
       "      <td>10.1101/2020.10.23.20217901</td>\n",
       "      <td>BackgroundWith no vaccine or treatment for SAR...</td>\n",
       "      <td>2020-01-01</td>\n",
       "      <td>Reik, Rita; Gammon, Richard; Carol, Nancy; Smi...</td>\n",
       "      <td>NaN</td>\n",
       "      <td>http://medrxiv.org/cgi/content/short/2020.10.2...</td>\n",
       "      <td>2020</td>\n",
       "    </tr>\n",
       "    <tr>\n",
       "      <th>4</th>\n",
       "      <td>gzjfyitd</td>\n",
       "      <td>WHO</td>\n",
       "      <td>COVID – 19 and gravid mothers</td>\n",
       "      <td>NaN</td>\n",
       "      <td>Human history is observing a very horrible and...</td>\n",
       "      <td>2020-01-01</td>\n",
       "      <td>Sadavarte, S.; Chaudhari, B. V.</td>\n",
       "      <td>International Journal of Research in Pharmaceu...</td>\n",
       "      <td>NaN</td>\n",
       "      <td>2020</td>\n",
       "    </tr>\n",
       "  </tbody>\n",
       "</table>\n",
       "</div>"
      ],
      "text/plain": [
       "   cord_uid      source_x                                              title  \\\n",
       "0  gl6kg2gt           WHO  Progress Toward Poliovirus Containment Impleme...   \n",
       "1  jjgqnzp6           WHO   Anti)social Monitoring: Law and (or) Expediency?   \n",
       "2  s5hd55ch           WHO  Running of high patient volume radiation oncol...   \n",
       "3  zl9kf1ax  MedRxiv; WHO  Rapid Development of a De Novo Convalescent Pl...   \n",
       "4  gzjfyitd           WHO                      COVID – 19 and gravid mothers   \n",
       "\n",
       "                           doi  \\\n",
       "0                          NaN   \n",
       "1                          NaN   \n",
       "2                          NaN   \n",
       "3  10.1101/2020.10.23.20217901   \n",
       "4                          NaN   \n",
       "\n",
       "                                            abstract publish_time  \\\n",
       "0  Since 1988, when World Health Organization (WH...   2020-01-01   \n",
       "1  The paper is focused on analysis of compliance...   2020-01-01   \n",
       "2  Purpose: Due to COVID 19 pandemic, the treatme...   2020-01-01   \n",
       "3  BackgroundWith no vaccine or treatment for SAR...   2020-01-01   \n",
       "4  Human history is observing a very horrible and...   2020-01-01   \n",
       "\n",
       "                                             authors  \\\n",
       "0  Moffett, Daphne B; Llewellyn, Anna; Singh, Har...   \n",
       "1                             Savelyev, Alexander I.   \n",
       "2  Gupta, Manoj; Ahuja, Rachit; Gupta, Sweety; Jo...   \n",
       "3  Reik, Rita; Gammon, Richard; Carol, Nancy; Smi...   \n",
       "4                    Sadavarte, S.; Chaudhari, B. V.   \n",
       "\n",
       "                                             journal  \\\n",
       "0                          MMWR Morb Mortal Wkly Rep   \n",
       "1                                              Zakon   \n",
       "2                                  Radiat. Oncol. J.   \n",
       "3                                                NaN   \n",
       "4  International Journal of Research in Pharmaceu...   \n",
       "\n",
       "                                                 url  publish_year  \n",
       "0                                                NaN          2020  \n",
       "1                                                NaN          2020  \n",
       "2                                                NaN          2020  \n",
       "3  http://medrxiv.org/cgi/content/short/2020.10.2...          2020  \n",
       "4                                                NaN          2020  "
      ]
     },
     "execution_count": 13,
     "metadata": {},
     "output_type": "execute_result"
    }
   ],
   "source": [
    "with open(\"./data/clean_df.pkl\", \"rb\") as read_file:\n",
    "    df = pickle.load(read_file)\n",
    "df.head()"
   ]
  },
  {
   "cell_type": "code",
   "execution_count": 14,
   "id": "medieval-deadline",
   "metadata": {},
   "outputs": [
    {
     "data": {
      "text/plain": [
       "268611"
      ]
     },
     "execution_count": 14,
     "metadata": {},
     "output_type": "execute_result"
    }
   ],
   "source": [
    "all_texts = df.abstract\n",
    "len(all_texts)"
   ]
  },
  {
   "cell_type": "code",
   "execution_count": 15,
   "id": "wired-belief",
   "metadata": {},
   "outputs": [],
   "source": [
    "# spacy nlp model\n",
    "nlp = en_core_sci_lg.load()\n",
    "nlp.max_length=3000000"
   ]
  },
  {
   "cell_type": "code",
   "execution_count": 16,
   "id": "unauthorized-opinion",
   "metadata": {},
   "outputs": [],
   "source": [
    "def spacy_tokenizer(sentence):\n",
    "    return [word.lemma_ for word in nlp(sentence) if not (word.like_num or word.is_stop or word.is_punct or word.is_space or len(word)==1)]"
   ]
  },
  {
   "cell_type": "code",
   "execution_count": 17,
   "id": "careful-promotion",
   "metadata": {},
   "outputs": [],
   "source": [
    "vectorizer = CountVectorizer(tokenizer = spacy_tokenizer, min_df=2)\n",
    "data_vectorized = vectorizer.fit_transform(all_texts)"
   ]
  },
  {
   "cell_type": "code",
   "execution_count": 19,
   "id": "egyptian-examination",
   "metadata": {},
   "outputs": [],
   "source": [
    "pickle.dump(data_vectorized, open(\"data_vect.pkl\", \"wb\"))"
   ]
  },
  {
   "cell_type": "code",
   "execution_count": 21,
   "id": "atlantic-apartment",
   "metadata": {},
   "outputs": [],
   "source": [
    "pickle.dump(vectorizer, open(\"vectorizer.pkl\", \"wb\"))"
   ]
  },
  {
   "cell_type": "code",
   "execution_count": 22,
   "id": "pursuant-footwear",
   "metadata": {},
   "outputs": [
    {
     "data": {
      "text/plain": [
       "<AxesSubplot:ylabel='word'>"
      ]
     },
     "execution_count": 22,
     "metadata": {},
     "output_type": "execute_result"
    },
    {
     "data": {
      "image/png": "[encoded data removed]",
      "text/plain": [
       "<Figure size 432x288 with 1 Axes>"
      ]
     },
     "metadata": {
      "needs_background": "light"
     },
     "output_type": "display_data"
    }
   ],
   "source": [
    "# most frequent words\n",
    "word_count = pd.DataFrame({'word': vectorizer.get_feature_names(), \n",
    "                           'count': np.asarray(data_vectorized.sum(axis=0))[0]})\n",
    "word_count.sort_values('count', ascending=False).set_index('word')[:20]\\\n",
    "                .sort_values('count',ascending=True).plot(kind='barh')"
   ]
  },
  {
   "cell_type": "markdown",
   "id": "treated-trinity",
   "metadata": {},
   "source": [
    "## LDA"
   ]
  },
  {
   "cell_type": "code",
   "execution_count": 26,
   "id": "proved-memory",
   "metadata": {},
   "outputs": [
    {
     "data": {
      "text/plain": [
       "LatentDirichletAllocation(random_state=0)"
      ]
     },
     "execution_count": 26,
     "metadata": {},
     "output_type": "execute_result"
    }
   ],
   "source": [
    "# LDA - sklearn\n",
    "lda = LatentDirichletAllocation(n_components=10, random_state=0)\n",
    "lda.fit(data_vectorized)"
   ]
  },
  {
   "cell_type": "code",
   "execution_count": 28,
   "id": "planned-might",
   "metadata": {},
   "outputs": [],
   "source": [
    "def print_top_words(model, vectorizer, n_top_words):\n",
    "    feature_names = vectorizer.get_feature_names()\n",
    "    for topic_idx, topic in enumerate(model.components_):\n",
    "        message = \"\\nTopic #%d: \" % topic_idx\n",
    "        message += \" \".join([feature_names[i] for i in topic.argsort()[:-n_top_words -1: -1]])\n",
    "        print(message)\n",
    "    print()"
   ]
  },
  {
   "cell_type": "code",
   "execution_count": 29,
   "id": "dominant-funds",
   "metadata": {},
   "outputs": [
    {
     "name": "stdout",
     "output_type": "stream",
     "text": [
      "\n",
      "Topic #0: model datum case covid-19 result method number time system study propose base different analysis rate epidemic estimate network measure spread transmission control approach provide disease\n",
      "\n",
      "Topic #1: care study health student pandemic patient include result research covid-19 review support provide online method service experience intervention use need clinical practice medical education datum\n",
      "\n",
      "Topic #2: covid-19 study health pandemic high result increase risk participant measure anxiety survey factor level population year report associate age conclusion method social datum impact mental\n",
      "\n",
      "Topic #3: pandemic covid-19 health public country social research system crisis impact policy global world new article economic response challenge need paper change provide government state community\n",
      "\n",
      "Topic #4: cancer surgery patient treatment surgical procedure group result pain method study dental undergo em perform da breast compare conclusion oral month high material postoperative surgeon\n",
      "\n",
      "Topic #5: covid-19 patient disease infection case coronavirus respiratory sars-cov-2 treatment severe clinical acute report syndrome pandemic symptom care risk cause include present review hospital study therapy\n",
      "\n",
      "Topic #6: cell expression response immune gene study disease effect infection increase role mechanism tissue lung level function result human pathway cytokine mouse protein show factor receptor\n",
      "\n",
      "Topic #7: sars-cov-2 virus viral protein vaccine drug antibody infection study coronavirus covid-19 human sample test assay rna result disease respiratory target potential antiviral detection identify molecular\n",
      "\n",
      "Topic #8: patient covid-19 study group mortality result high disease outcome ci risk day clinical compare conclusion method age associate include hospital severe admission ct rate test\n",
      "\n",
      "Topic #9: de la en el que et los se covid-19 para les por un las con des del le al pandemia como una patient une es\n",
      "\n"
     ]
    }
   ],
   "source": [
    "print_top_words(lda, vectorizer, n_top_words=25)"
   ]
  },
  {
   "cell_type": "code",
   "execution_count": 30,
   "id": "front-potential",
   "metadata": {},
   "outputs": [
    {
     "data": {
      "text/plain": [
       "LatentDirichletAllocation(n_components=20, random_state=0)"
      ]
     },
     "execution_count": 30,
     "metadata": {},
     "output_type": "execute_result"
    }
   ],
   "source": [
    "# more topics\n",
    "lda = LatentDirichletAllocation(n_components=20, random_state=0)\n",
    "lda.fit(data_vectorized)"
   ]
  },
  {
   "cell_type": "code",
   "execution_count": 31,
   "id": "together-blame",
   "metadata": {},
   "outputs": [
    {
     "name": "stdout",
     "output_type": "stream",
     "text": [
      "\n",
      "Topic #0: model datum method propose system result base network approach different learning analysis time covid-19 paper performance provide present study algorithm prediction predict develop dataset use\n",
      "\n",
      "Topic #1: health care study research review include provide datum support need identify use article intervention service method clinical search practice result covid-19 information literature technology evidence\n",
      "\n",
      "Topic #2: mask use study face hiv wear hand ppe vaccination result ci participant method covid-19 protective factor risk vaccine high worker hygiene respirator aor hcw associate\n",
      "\n",
      "Topic #3: pandemic covid-19 health public social crisis country policy global economic impact world system article new government paper response research change challenge state need development people\n",
      "\n",
      "Topic #4: cancer patient treatment risk dental procedure diabete covid-19 care pandemic surgery breast oral method result use aerosol reduce tumor surgical transmission therapy management recommendation high\n",
      "\n",
      "Topic #5: covid-19 disease patient coronavirus respiratory infection severe acute sars-cov-2 syndrome case cause clinical treatment report pandemic symptom review present risk virus include therapy complication management\n",
      "\n",
      "Topic #6: ct patient case chest covid-19 diagnosis lung imaging finding pneumonia lesion image clinical report present feature diagnostic show result infection disease scan tomography symptom examination\n",
      "\n",
      "Topic #7: sars-cov-2 virus viral protein human coronavirus rna sample respiratory detection infection sequence study binding genome molecular host identify spike test result mutation assay covid-19 cause\n",
      "\n",
      "Topic #8: patient mortality outcome risk study icu high associate ci covid-19 ventilation result score conclusion day group compare rate analysis method include mechanical age admission increase\n",
      "\n",
      "Topic #9: vaccine antibody sars-cov-2 response vaccination igg assay infection immunity plasma test immune blood donor antigen result dose neutralize covid-19 serum convalescent high individual epitope igm\n",
      "\n",
      "Topic #10: group trial study control effect treatment result pain intervention compare method randomized vitamin participant improve low material surface reduce high show evaluate outcome exercise significant\n",
      "\n",
      "Topic #11: study concentration air increase high level temperature effect result exposure change factor low show risk specie environmental pollution decrease group emission analysis find control activity\n",
      "\n",
      "Topic #12: covid-19 health study pandemic mental social anxiety result participant survey high psychological stress level impact depression increase factor measure associate lockdown symptom report physical people\n",
      "\n",
      "Topic #13: drug treatment covid-19 woman study antiviral compound clinical trial pregnant potential therapeutic effect use pregnancy therapy activity treat target hydroxychloroquine effective agent medicine inhibitor result\n",
      "\n",
      "Topic #14: patient care pandemic hospital covid-19 emergency surgery medical service surgical period staff healthcare department procedure result time management conclusion practice method perform ed unit number\n",
      "\n",
      "Topic #15: covid-19 case rate number infection death country population datum health transmission measure result high disease outbreak epidemic estimate increase pandemic report study contact risk period\n",
      "\n",
      "Topic #16: cell expression immune response protein gene infection role disease receptor mechanism pathway ace2 cytokine tissue lung mouse human study increase effect function level target factor\n",
      "\n",
      "Topic #17: de la en el que los se covid-19 et para les por un da las con des del em le pandemia como una al com\n",
      "\n",
      "Topic #18: patient covid-19 study group disease result clinical test symptom ci high day severe age positive conclusion compare hospital method include outcome infection risk year level\n",
      "\n",
      "Topic #19: student child education online learning school program pandemic training virtual medical visit telemedicine teaching university covid-19 telehealth experience video course survey remote educational parent result\n",
      "\n"
     ]
    }
   ],
   "source": [
    "print_top_words(lda, vectorizer, n_top_words=25)"
   ]
  },
  {
   "cell_type": "code",
   "execution_count": null,
   "id": "amino-tokyo",
   "metadata": {},
   "outputs": [],
   "source": []
  }
 ],
 "metadata": {
  "kernelspec": {
   "display_name": "Python [conda env:root]",
   "language": "python",
   "name": "conda-root-py"
  },
  "language_info": {
   "codemirror_mode": {
    "name": "ipython",
    "version": 3
   },
   "file_extension": ".py",
   "mimetype": "text/x-python",
   "name": "python",
   "nbconvert_exporter": "python",
   "pygments_lexer": "ipython3",
   "version": "3.8.5"
  }
 },
 "nbformat": 4,
 "nbformat_minor": 5
}
